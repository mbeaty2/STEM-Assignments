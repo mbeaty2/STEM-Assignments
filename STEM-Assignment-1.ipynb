{
 "cells": [
  {
   "cell_type": "markdown",
   "metadata": {},
   "source": [
    "# Assignment 1\n",
    "\n",
    "## Exploring data in Python\n",
    "\n",
    "For this assignment I have provided a portion of the data from the [Ingenium Canada Museum Collection](https://ingeniumcanada.org/centre/the-ingenium-research-institute) dataset. I've cleaned it up abit!\n",
    "\n",
    "The assignment asks you to explore the data and provide some analysis and visualisations. It will mostly ask you to use approaches to data analysis and access that we have seen before, but also may involve doing a bit of further research into libraries like NumPy and MatplotLib.\n",
    "\n",
    "Complete your answers in this Jupyter Notebook, highlighting which cell answers each question.\n",
    "\n",
    "I have provided some code to load in and format the dataset, run this once at the beginning!"
   ]
  },
  {
   "cell_type": "code",
   "execution_count": 1,
   "metadata": {},
   "outputs": [
    {
     "name": "stdout",
     "output_type": "stream",
     "text": [
      "Column names\n",
      "\n",
      "['artifactNumber' 'ObjectName' 'BeginDate' 'group1' 'category1' 'material'\n",
      " 'Length' 'Width' 'Height' 'image']\n",
      "\n",
      "Dataset Shape\n",
      "\n",
      "(6738, 10)\n"
     ]
    }
   ],
   "source": [
    "##Setup code to load in the dataset \n",
    "import numpy as np\n",
    "file = open('data/museum_data_assignment-1.tsv')\n",
    "dataset = np.loadtxt(file, delimiter = \"\\t\",  dtype = 'O')\n",
    "headings = dataset[0]\n",
    "dataset = dataset[1:]\n",
    "dataset = np.array([x for x in dataset if not x[2] == \"Unknown\"])\n",
    "dataset[:,2] = [int(x) for x in dataset[:,2]]\n",
    "dataset[:,6] = [float(x[:-2]) for x in dataset[:,6]]\n",
    "dataset[:,7] = [float(x[:-2]) for x in dataset[:,7]]\n",
    "dataset[:,8] = [float(x[:-2]) for x in dataset[:,8]]\n",
    "dataset[:,5] = [x.replace(\";\",\"->\").split(\"->\")[0] for x in dataset[:,5]]\n",
    "print(\"Column names\\n\")\n",
    "print(headings)\n",
    "print(\"\\nDataset Shape\\n\")\n",
    "print(dataset.shape)"
   ]
  },
  {
   "cell_type": "markdown",
   "metadata": {},
   "source": [
    "### Question 1\n",
    "\n",
    "Using either ``sorted()`` or [`np.argmax()`](https://numpy.org/doc/stable/reference/generated/numpy.argmax.html?highlight=max#numpy.argmax), find and display the images for \n",
    "\n",
    "    - Oldest\n",
    "    \n",
    "    - Newest \n",
    "        \n",
    "**You will have to do some extra research to find out how to display images in a Jupyter notebook**"
   ]
  },
  {
   "cell_type": "code",
   "execution_count": 2,
   "metadata": {},
   "outputs": [],
   "source": [
    "import requests"
   ]
  },
  {
   "cell_type": "code",
   "execution_count": 3,
   "metadata": {},
   "outputs": [],
   "source": [
    "from IPython.display import Image, display\n",
    "from IPython.core.display import HTML "
   ]
  },
  {
   "cell_type": "code",
   "execution_count": 4,
   "metadata": {},
   "outputs": [
    {
     "data": {
      "text/html": [
       "<img src=\"http://source.techno-science.ca/artifacts-artefacts/images/1980.0679.001.aa.cs.png\" width=\"300\" class=\"unconfined\"/>"
      ],
      "text/plain": [
       "<IPython.core.display.Image object>"
      ]
     },
     "metadata": {},
     "output_type": "display_data"
    },
    {
     "data": {
      "text/html": [
       "<img src=\"http://source.techno-science.ca/artifacts-artefacts/images/1966.0719.001.aa.cs.png\" width=\"300\" class=\"unconfined\"/>"
      ],
      "text/plain": [
       "<IPython.core.display.Image object>"
      ]
     },
     "metadata": {},
     "output_type": "display_data"
    }
   ],
   "source": [
    "years_in_dataset = dataset[:,2]\n",
    "sorted_years = sorted(years_in_dataset)\n",
    "\n",
    "oldest_year = sorted_years[1]\n",
    "newest_year = sorted_years[-1]\n",
    "\n",
    "for data in dataset:\n",
    "    if data[2] == oldest_year:\n",
    "        oldest_image_url = (data[9])\n",
    "\n",
    "for data in dataset:\n",
    "    if data[2] == newest_year:\n",
    "        newest_image_url = (data[9])   \n",
    "\n",
    "display(Image(url= oldest_image_url, width=300, unconfined=True))\n",
    "\n",
    "display(Image(url= newest_image_url, width=300, unconfined=True))"
   ]
  },
  {
   "cell_type": "markdown",
   "metadata": {},
   "source": [
    "### Question 2\n",
    "\n",
    "Assuming the volume of an object is ``length x width x height``\n",
    "\n",
    "1. Create a new 1-D array containing the volumes of each object \n",
    "\n",
    "\n",
    "2. Remove the **top and bottom 20%** (e.g. the biggest and smallest objects)\n",
    "\n",
    "\n",
    "3. Plot a histogram of the remaining object's volumes. Label the axes appropriately.\n",
    "\n"
   ]
  },
  {
   "cell_type": "code",
   "execution_count": 5,
   "metadata": {},
   "outputs": [
    {
     "name": "stdout",
     "output_type": "stream",
     "text": [
      "[10200.0 4708.0 5750.0 ... 1010.5 42993.0 1484.05]\n"
     ]
    }
   ],
   "source": [
    "#creating a 1D array containing the volumes of each object\n",
    "\n",
    "length = dataset[:,6]\n",
    "width = dataset[:,7]\n",
    "height = dataset[:,8]\n",
    "\n",
    "for data in dataset:\n",
    "    volume = np.multiply(length, width, height)\n",
    "\n",
    "print(volume)"
   ]
  },
  {
   "cell_type": "code",
   "execution_count": 21,
   "metadata": {},
   "outputs": [
    {
     "name": "stdout",
     "output_type": "stream",
     "text": [
      "[6562100.0, 3683800.0, 10238799.999999998, 6181500.0, 6767000.0, 6954000.0]\n",
      "6\n"
     ]
    }
   ],
   "source": [
    "#removing the top and bottom 20% (biggest and smallest)\n",
    "\n",
    "maximum = max(volume)\n",
    "minimum = min(volume)\n",
    "\n",
    "top_twenty = .8*maximum\n",
    "\n",
    "bottom_twenty = .2*maximum\n",
    "\n",
    "shorter_list = [i for i in volume if (i > bottom_twenty and i < top_twenty)]\n",
    "\n",
    "print(shorter_list)"
   ]
  },
  {
   "cell_type": "code",
   "execution_count": 23,
   "metadata": {},
   "outputs": [],
   "source": [
    "import matplotlib.pyplot as plt"
   ]
  },
  {
   "cell_type": "code",
   "execution_count": 34,
   "metadata": {},
   "outputs": [
    {
     "data": {
      "text/plain": [
       "(array([1., 0., 0., 0., 0., 0., 0., 0., 0., 0., 0., 1., 0., 1., 2., 0., 0.,\n",
       "        0., 0., 0., 0., 0., 0., 0., 0., 0., 0., 0., 0., 1.]),\n",
       " array([ 3683800.,  3902300.,  4120800.,  4339300.,  4557800.,  4776300.,\n",
       "         4994800.,  5213300.,  5431800.,  5650300.,  5868800.,  6087300.,\n",
       "         6305800.,  6524300.,  6742800.,  6961300.,  7179800.,  7398300.,\n",
       "         7616800.,  7835300.,  8053800.,  8272300.,  8490800.,  8709300.,\n",
       "         8927800.,  9146300.,  9364800.,  9583300.,  9801800., 10020300.,\n",
       "        10238800.]),\n",
       " <BarContainer object of 30 artists>)"
      ]
     },
     "execution_count": 34,
     "metadata": {},
     "output_type": "execute_result"
    },
    {
     "data": {
      "image/png": "[encoded data removed]",
      "text/plain": [
       "<Figure size 720x720 with 1 Axes>"
      ]
     },
     "metadata": {
      "needs_background": "light"
     },
     "output_type": "display_data"
    }
   ],
   "source": [
    "#plotting a histogram of the remaining object's volumes w/labelled axes\n",
    "fig, ax = plt.subplots(figsize=(10,10))\n",
    "ax.set_xlabel(\"Volume\")\n",
    "ax.set_ylabel(\"Frequency\")\n",
    "plt.hist(shorter_list, bins=30, color='pink', edgecolor='black')"
   ]
  },
  {
   "cell_type": "markdown",
   "metadata": {},
   "source": [
    "### Question 3 \n",
    "\n",
    "What is the most common category and group? What percentage of the total items to they each make up?\n",
    "\n",
    "**HINT** What kind of ``Average`` is ``most common`` another word for?"
   ]
  },
  {
   "cell_type": "code",
   "execution_count": 9,
   "metadata": {},
   "outputs": [],
   "source": [
    "from collections import Counter"
   ]
  },
  {
   "cell_type": "code",
   "execution_count": 10,
   "metadata": {
    "scrolled": true
   },
   "outputs": [
    {
     "name": "stdout",
     "output_type": "stream",
     "text": [
      "The average category is: \n",
      "[('Still cameras', 695)]\n"
     ]
    }
   ],
   "source": [
    "#Finding the Category Information\n",
    "length_of_data = len(dataset)\n",
    "\n",
    "#accessing the category data\n",
    "category = dataset[:,4]\n",
    "\n",
    "#finding the most common Category\n",
    "category_count = Counter(category)\n",
    "average_category = category_count.most_common(1)\n",
    "print(\"The average category is: \")\n",
    "print(average_category)"
   ]
  },
  {
   "cell_type": "code",
   "execution_count": 11,
   "metadata": {},
   "outputs": [
    {
     "name": "stdout",
     "output_type": "stream",
     "text": [
      "10.31463342238053\n"
     ]
    }
   ],
   "source": [
    "#finding the percentage this category appears in the dataset\n",
    "count_of_categories = 0\n",
    "for cat in category:\n",
    "    if cat == \"Still cameras\":\n",
    "        count_of_categories +=1\n",
    "\n",
    "percent_in_total = (count_of_categories/length_of_data) * 100\n",
    "print(percent_in_total)"
   ]
  },
  {
   "cell_type": "code",
   "execution_count": 12,
   "metadata": {},
   "outputs": [
    {
     "name": "stdout",
     "output_type": "stream",
     "text": [
      "The average group is: \n",
      "[('Technology', 2914)]\n"
     ]
    }
   ],
   "source": [
    "#Finding the Group Information\n",
    "\n",
    "#accessing the group data\n",
    "group = dataset[:,3]\n",
    "\n",
    "#finding the most common Group\n",
    "group_count = Counter(group)\n",
    "average_group = group_count.most_common(1)\n",
    "print(\"The average group is: \")\n",
    "print(average_group)"
   ]
  },
  {
   "cell_type": "code",
   "execution_count": 13,
   "metadata": {},
   "outputs": [
    {
     "name": "stdout",
     "output_type": "stream",
     "text": [
      "43.247254378153755\n"
     ]
    }
   ],
   "source": [
    "#finding the percentage this group appears in the dataset\n",
    "count_of_group = 0\n",
    "for g in group:\n",
    "    if g == \"Technology\":\n",
    "        count_of_group +=1\n",
    "\n",
    "percent_of_group = (count_of_group/length_of_data) * 100\n",
    "print(percent_of_group)"
   ]
  },
  {
   "cell_type": "markdown",
   "metadata": {},
   "source": [
    "### Question 4\n",
    "\n",
    "1. Plot date of objects against width from everything added to the collection between 1850 and 1900. Pick sensible ticks and labels for the axes, as well as a sensible scale.\n",
    "\n",
    "Each item on the plot should have a different colour or symbol depending on its material as described by the ``material`` heading .**EXTRA BONUS** If you can put in a legend mapping material to colour.\n",
    "\n",
    "**HINT** Try using `NumPy Filters` and multiple calls to ``ax.plot()`` to plot each group.\n",
    "\n",
    "2. Write a short paragraph describing what the plot tells us about the museums collection in relation to time, width and material. You can add some extra plots if you think it will help support any of your points. \n"
   ]
  },
  {
   "cell_type": "code",
   "execution_count": 54,
   "metadata": {},
   "outputs": [],
   "source": [
    "#finding the full dataset between 1850 and 1900\n",
    "new_dataset = dataset[(dataset[:,2] > 1850) & (dataset[:,2] < 1900)]\n",
    "\n",
    "#finding a list of all materials then sorting the datasets by material\n",
    "materials = new_dataset[:,5]\n",
    "\n",
    "list_of_materials = []\n",
    "for m in materials:\n",
    "    if m not in list_of_materials:\n",
    "        list_of_materials.append(m)\n",
    "\n",
    "metal_dates = []\n",
    "metal_widths = []\n",
    "\n",
    "wood_dates = []\n",
    "wood_widths = []\n",
    "\n",
    "paper_dates = []\n",
    "paper_widths = []\n",
    "\n",
    "Unknown_dates = []\n",
    "Unknown_widths = []\n",
    "\n",
    "fibre_dates = []\n",
    "fibre_widths = []\n",
    "\n",
    "glass_dates = []\n",
    "glass_widths = []\n",
    "\n",
    "skin_dates = []\n",
    "skin_widths = []\n",
    "\n",
    "synthetic_dates = []\n",
    "synthetic_widths = []\n",
    "\n",
    "stone_dates = []\n",
    "stone_widths = []\n",
    "\n",
    "resin_dates = []\n",
    "resin_widths = []\n",
    "\n",
    "for new in new_dataset:\n",
    "    if new[5] == \"metal\":\n",
    "        metal_dates.append(new[2])\n",
    "        metal_widths.append(new[7])\n",
    "    elif new[5] == \"wood\":\n",
    "        wood_dates.append(new[2])\n",
    "        wood_widths.append(new[7])\n",
    "    elif new[5] == \"paper\":\n",
    "        paper_dates.append(new[2])\n",
    "        paper_widths.append(new[7])\n",
    "    elif new[5] == \"Unknown\":\n",
    "        Unknown_dates.append(new[2])\n",
    "        Unknown_widths.append(new[7])\n",
    "    elif new[5] == \"fibre\":\n",
    "        fibre_dates.append(new[2])\n",
    "        fibre_widths.append(new[7])\n",
    "    elif new[5] == \"glass\":\n",
    "        glass_dates.append(new[2])\n",
    "        glass_widths.append(new[7])\n",
    "    elif new[5] == \"skin\":\n",
    "        skin_dates.append(new[2])\n",
    "        skin_widths.append(new[7])\n",
    "    elif new[5] == \"synthetic\":\n",
    "        synthetic_dates.append(new[2])\n",
    "        synthetic_widths.append(new[7])\n",
    "    elif new[5] == \"stone\":\n",
    "        stone_dates.append(new[2])\n",
    "        stone_widths.append(new[7])\n",
    "    elif new[5] == \"resin\":\n",
    "        resin_dates.append(new[2])\n",
    "        resin_widths.append(new[7])"
   ]
  },
  {
   "cell_type": "code",
   "execution_count": 61,
   "metadata": {},
   "outputs": [
    {
     "data": {
      "text/plain": [
       "<matplotlib.legend.Legend at 0x1549b6f10>"
      ]
     },
     "execution_count": 61,
     "metadata": {},
     "output_type": "execute_result"
    },
    {
     "data": {
      "image/png": "[encoded data removed]",
      "text/plain": [
       "<Figure size 936x936 with 1 Axes>"
      ]
     },
     "metadata": {
      "needs_background": "light"
     },
     "output_type": "display_data"
    }
   ],
   "source": [
    "#creating the plot parameters\n",
    "fig, ax = plt.subplots(figsize=(13,13))\n",
    "ax.set_xlabel(\"Date of Objects\")\n",
    "ax.set_ylabel(\"Width\")\n",
    "\n",
    "#plotting the data\n",
    "ax.plot(metal_dates, metal_widths, \"ro\", label=\"metal\")\n",
    "ax.plot(wood_dates, wood_widths, \"b+\", label=\"wood\")\n",
    "ax.plot(paper_dates, paper_widths, \"go\", label=\"paper\")\n",
    "ax.plot(Unknown_dates, Unknown_widths, \"yx\", label=\"Unknown\")\n",
    "ax.plot(fibre_dates, fibre_widths, \"co\", label=\"fibre\")\n",
    "ax.plot(glass_dates, glass_widths, \"mx\", label=\"glass\")\n",
    "ax.plot(skin_dates, skin_widths, \"rx\", label=\"skin\")\n",
    "ax.plot(synthetic_dates, synthetic_widths, \"yx\", label=\"synthetic\")\n",
    "ax.plot(stone_dates, stone_widths, \"ko\", label=\"stone\")\n",
    "ax.plot(resin_dates, resin_widths, \"c+\", label=\"resin\")\n",
    "\n",
    "plt.legend(loc=\"upper left\")"
   ]
  }
 ],
 "metadata": {
  "kernelspec": {
   "display_name": "Python 3",
   "language": "python",
   "name": "python3"
  },
  "language_info": {
   "codemirror_mode": {
    "name": "ipython",
    "version": 3
   },
   "file_extension": ".py",
   "mimetype": "text/x-python",
   "name": "python",
   "nbconvert_exporter": "python",
   "pygments_lexer": "ipython3",
   "version": "3.9.13"
  },
  "varInspector": {
   "cols": {
    "lenName": 16,
    "lenType": 16,
    "lenVar": 40
   },
   "kernels_config": {
    "python": {
     "delete_cmd_postfix": "",
     "delete_cmd_prefix": "del ",
     "library": "var_list.py",
     "varRefreshCmd": "print(var_dic_list())"
    },
    "r": {
     "delete_cmd_postfix": ") ",
     "delete_cmd_prefix": "rm(",
     "library": "var_list.r",
     "varRefreshCmd": "cat(var_dic_list()) "
    }
   },
   "types_to_exclude": [
    "module",
    "function",
    "builtin_function_or_method",
    "instance",
    "_Feature"
   ],
   "window_display": false
  }
 },
 "nbformat": 4,
 "nbformat_minor": 4
}
